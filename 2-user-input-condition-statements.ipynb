{
 "cells": [
  {
   "cell_type": "markdown",
   "metadata": {},
   "source": [
    "# User Input\n",
    "\n",
    "#### Syntax\n",
    "```\n",
    "var_name = input('Enter in the prompt here!')\n",
    "```"
   ]
  },
  {
   "cell_type": "code",
   "execution_count": 2,
   "metadata": {},
   "outputs": [
    {
     "name": "stdout",
     "output_type": "stream",
     "text": [
      "My name is Dylan\n"
     ]
    }
   ],
   "source": [
    "name = input('Enter in your name: ')\n",
    "print('My name is', name)"
   ]
  },
  {
   "cell_type": "code",
   "execution_count": 4,
   "metadata": {},
   "outputs": [
    {
     "ename": "ValueError",
     "evalue": "invalid literal for int() with base 10: 'Dylan'",
     "output_type": "error",
     "traceback": [
      "\u001b[1;31m---------------------------------------------------------------------------\u001b[0m",
      "\u001b[1;31mValueError\u001b[0m                                Traceback (most recent call last)",
      "Cell \u001b[1;32mIn[4], line 1\u001b[0m\n\u001b[1;32m----> 1\u001b[0m age \u001b[38;5;241m=\u001b[39m \u001b[38;5;28mint\u001b[39m(\u001b[38;5;28minput\u001b[39m(\u001b[38;5;124m'\u001b[39m\u001b[38;5;124mEnter in your age: \u001b[39m\u001b[38;5;124m'\u001b[39m))\n\u001b[0;32m      2\u001b[0m \u001b[38;5;28mprint\u001b[39m(\u001b[38;5;124m'\u001b[39m\u001b[38;5;124mMy age is\u001b[39m\u001b[38;5;124m'\u001b[39m, age)\n",
      "\u001b[1;31mValueError\u001b[0m: invalid literal for int() with base 10: 'Dylan'"
     ]
    }
   ],
   "source": [
    "age = int(input('Enter in your age: '))\n",
    "print('My age is', age)"
   ]
  },
  {
   "cell_type": "markdown",
   "metadata": {},
   "source": [
    "# Conditional Statements\n",
    "__Boolean__ = data type that is either `True` or `False`\n",
    "\n",
    "__Conditional statement__ = expression that evaluates to a boolean \n",
    "\n",
    "### 6 Comparison Operators\n",
    "1. <\n",
    "2. <= \n",
    "3. \\>\n",
    "4. \\>=\n",
    "5. ==\n",
    "6. !=\n",
    "\n",
    "### If Statement Syntax\n",
    "```\n",
    "if condition:\n",
    "    // Only run this block of code if this condition was true!\n",
    "elif another_condition:\n",
    "    // Only run this block of code if the previous condition was false and this condition was true!\n",
    "else:\n",
    "    // Only run this block of code if all the previous conditions were false!\n",
    "```"
   ]
  },
  {
   "cell_type": "code",
   "execution_count": 5,
   "metadata": {},
   "outputs": [
    {
     "data": {
      "text/plain": [
       "True"
      ]
     },
     "execution_count": 5,
     "metadata": {},
     "output_type": "execute_result"
    }
   ],
   "source": [
    "5 == 5"
   ]
  },
  {
   "cell_type": "code",
   "execution_count": 6,
   "metadata": {},
   "outputs": [
    {
     "data": {
      "text/plain": [
       "True"
      ]
     },
     "execution_count": 6,
     "metadata": {},
     "output_type": "execute_result"
    }
   ],
   "source": [
    "5.0 == 5"
   ]
  },
  {
   "cell_type": "code",
   "execution_count": 7,
   "metadata": {},
   "outputs": [
    {
     "data": {
      "text/plain": [
       "False"
      ]
     },
     "execution_count": 7,
     "metadata": {},
     "output_type": "execute_result"
    }
   ],
   "source": [
    "'5' == 5"
   ]
  },
  {
   "cell_type": "code",
   "execution_count": 8,
   "metadata": {},
   "outputs": [
    {
     "data": {
      "text/plain": [
       "True"
      ]
     },
     "execution_count": 8,
     "metadata": {},
     "output_type": "execute_result"
    }
   ],
   "source": [
    "'5' != 5"
   ]
  },
  {
   "cell_type": "code",
   "execution_count": 9,
   "metadata": {},
   "outputs": [
    {
     "data": {
      "text/plain": [
       "False"
      ]
     },
     "execution_count": 9,
     "metadata": {},
     "output_type": "execute_result"
    }
   ],
   "source": [
    "10 + 5 > 20"
   ]
  },
  {
   "cell_type": "code",
   "execution_count": 10,
   "metadata": {},
   "outputs": [
    {
     "data": {
      "text/plain": [
       "True"
      ]
     },
     "execution_count": 10,
     "metadata": {},
     "output_type": "execute_result"
    }
   ],
   "source": [
    "10 + 5 <= 15"
   ]
  },
  {
   "cell_type": "code",
   "execution_count": 12,
   "metadata": {},
   "outputs": [
    {
     "name": "stdout",
     "output_type": "stream",
     "text": [
      "You entered an invalid number.\n"
     ]
    }
   ],
   "source": [
    "num = int(input('Please enter in a positive number: '))\n",
    "\n",
    "if num < 0:\n",
    "    print('You entered an invalid number.')\n",
    "elif num % 2 == 0:\n",
    "    print('Your number was even!')\n",
    "else:\n",
    "    print('Your number was odd!')"
   ]
  },
  {
   "cell_type": "markdown",
   "metadata": {},
   "source": [
    "# GAME!!!\n",
    "Built-in module in Python called `random`\n",
    "\n",
    "Gives us access to `randint` function!"
   ]
  },
  {
   "cell_type": "code",
   "execution_count": 14,
   "metadata": {},
   "outputs": [
    {
     "name": "stdout",
     "output_type": "stream",
     "text": [
      "Your number was too high!\n",
      "You got it wrong! The number was 3\n"
     ]
    }
   ],
   "source": [
    "import random \n",
    "\n",
    "secret = random.randint(1, 10)\n",
    "guess = int(input('Please enter a number between 1 and 10: '))\n",
    "\n",
    "if guess == secret:\n",
    "    print('You got it right!')\n",
    "elif guess < secret:\n",
    "    print('Your number was too low!')\n",
    "    guess = int(input('Guess again: '))\n",
    "    if guess == secret:\n",
    "        print('You got it right!')\n",
    "    else:\n",
    "        print('You got it wrong! The number was', secret)\n",
    "else:\n",
    "    print('Your number was too high!')\n",
    "    guess = int(input('Guess again: '))\n",
    "    if guess == secret:\n",
    "        print('You got it right!')\n",
    "    else:\n",
    "        print('You got it wrong! The number was', secret)\n",
    "        \n",
    "    "
   ]
  }
 ],
 "metadata": {
  "kernelspec": {
   "display_name": "base",
   "language": "python",
   "name": "python3"
  },
  "language_info": {
   "codemirror_mode": {
    "name": "ipython",
    "version": 3
   },
   "file_extension": ".py",
   "mimetype": "text/x-python",
   "name": "python",
   "nbconvert_exporter": "python",
   "pygments_lexer": "ipython3",
   "version": "3.12.7"
  }
 },
 "nbformat": 4,
 "nbformat_minor": 2
}
