{
 "cells": [
  {
   "cell_type": "markdown",
   "metadata": {},
   "source": [
    "# User Input\n",
    "\n",
    "#### Syntax\n",
    "```\n",
    "var_name = input('Enter in the prompt here!')\n",
    "```"
   ]
  },
  {
   "cell_type": "code",
   "execution_count": null,
   "metadata": {},
   "outputs": [],
   "source": [
    "name = input('Enter in your name: ')\n",
    "print('My name is', name)"
   ]
  },
  {
   "cell_type": "code",
   "execution_count": null,
   "metadata": {},
   "outputs": [],
   "source": [
    "age = int(input('Enter in your age: '))\n",
    "print('My age is', age)"
   ]
  },
  {
   "cell_type": "markdown",
   "metadata": {},
   "source": [
    "# Conditional Statements\n",
    "__Boolean__ = data type that is either `True` or `False`\n",
    "\n",
    "__Conditional statement__ = expression that evaluates to a boolean \n",
    "\n",
    "### 6 Comparison Operators\n",
    "1. <\n",
    "2. <= \n",
    "3. \\>\n",
    "4. \\>=\n",
    "5. ==\n",
    "6. !=\n",
    "\n",
    "### If Statement Syntax\n",
    "```\n",
    "if condition:\n",
    "    // Only run this block of code if this condition was true!\n",
    "elif another_condition:\n",
    "    // Only run this block of code if the previous condition was false and this condition was true!\n",
    "else:\n",
    "    // Only run this block of code if all the previous conditions were false!\n",
    "```"
   ]
  },
  {
   "cell_type": "code",
   "execution_count": null,
   "metadata": {},
   "outputs": [],
   "source": [
    "5 == 5"
   ]
  },
  {
   "cell_type": "code",
   "execution_count": null,
   "metadata": {},
   "outputs": [],
   "source": [
    "5.0 == 5"
   ]
  },
  {
   "cell_type": "code",
   "execution_count": null,
   "metadata": {},
   "outputs": [],
   "source": [
    "'5' == 5"
   ]
  },
  {
   "cell_type": "code",
   "execution_count": null,
   "metadata": {},
   "outputs": [],
   "source": [
    "'5' != 5"
   ]
  },
  {
   "cell_type": "code",
   "execution_count": null,
   "metadata": {},
   "outputs": [],
   "source": [
    "10 + 5 > 20"
   ]
  },
  {
   "cell_type": "code",
   "execution_count": null,
   "metadata": {},
   "outputs": [],
   "source": [
    "10 + 5 <= 15"
   ]
  },
  {
   "cell_type": "code",
   "execution_count": null,
   "metadata": {},
   "outputs": [],
   "source": [
    "num = int(input('Please enter in a positive number: '))\n",
    "\n",
    "if num < 0:\n",
    "    print('You entered an invalid number.')\n",
    "elif num % 2 == 0:\n",
    "    print('Your number was even!')\n",
    "else:\n",
    "    print('Your number was odd!')"
   ]
  },
  {
   "cell_type": "markdown",
   "metadata": {},
   "source": [
    "# GAME!!!\n",
    "Built-in module in Python called `random`\n",
    "\n",
    "Gives us access to `randint` function!"
   ]
  },
  {
   "cell_type": "code",
   "execution_count": null,
   "metadata": {},
   "outputs": [],
   "source": [
    "import random \n",
    "\n",
    "secret = random.randint(1, 10)\n",
    "guess = int(input('Please enter a number between 1 and 10: '))\n",
    "\n",
    "if guess == secret:\n",
    "    print('You got it right!')\n",
    "elif guess < secret:\n",
    "    print('Your number was too low!')\n",
    "    guess = int(input('Guess again: '))\n",
    "    if guess == secret:\n",
    "        print('You got it right!')\n",
    "    else:\n",
    "        print('You got it wrong! The number was', secret)\n",
    "else:\n",
    "    print('Your number was too high!')\n",
    "    guess = int(input('Guess again: '))\n",
    "    if guess == secret:\n",
    "        print('You got it right!')\n",
    "    else:\n",
    "        print('You got it wrong! The number was', secret)\n",
    "        \n",
    "    "
   ]
  }
 ],
 "metadata": {
  "kernelspec": {
   "display_name": "base",
   "language": "python",
   "name": "python3"
  },
  "language_info": {
   "codemirror_mode": {
    "name": "ipython",
    "version": 3
   },
   "file_extension": ".py",
   "mimetype": "text/x-python",
   "name": "python",
   "nbconvert_exporter": "python",
   "pygments_lexer": "ipython3",
   "version": "3.12.7"
  }
 },
 "nbformat": 4,
 "nbformat_minor": 2
}
