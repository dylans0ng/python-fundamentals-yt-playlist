{
 "cells": [
  {
   "cell_type": "code",
   "execution_count": 2,
   "id": "b74a0d63",
   "metadata": {},
   "outputs": [],
   "source": [
    "student_grades = {\n",
    "    'Alice': 90,\n",
    "    'Bob': 85,\n",
    "    'Charlie': 78,\n",
    "    'Diana': 92\n",
    "}"
   ]
  },
  {
   "cell_type": "markdown",
   "id": "f0f2ffa2",
   "metadata": {},
   "source": [
    "## \"Get\" Method"
   ]
  },
  {
   "cell_type": "code",
   "execution_count": 11,
   "id": "76e21014",
   "metadata": {},
   "outputs": [
    {
     "data": {
      "text/plain": [
       "85"
      ]
     },
     "execution_count": 11,
     "metadata": {},
     "output_type": "execute_result"
    }
   ],
   "source": [
    "student_grades.get('Bob')"
   ]
  },
  {
   "cell_type": "markdown",
   "id": "5c0a2583",
   "metadata": {},
   "source": [
    "## \"Keys\" Method"
   ]
  },
  {
   "cell_type": "code",
   "execution_count": 15,
   "id": "a1b4ba38",
   "metadata": {},
   "outputs": [
    {
     "name": "stdout",
     "output_type": "stream",
     "text": [
      "Alice 90\n",
      "Diana 92\n"
     ]
    }
   ],
   "source": [
    "for key in student_grades.keys():\n",
    "    if student_grades[key] > 85:\n",
    "        print(key, student_grades[key])"
   ]
  },
  {
   "cell_type": "markdown",
   "id": "8f00a085",
   "metadata": {},
   "source": [
    "## \"Items\" Method"
   ]
  },
  {
   "cell_type": "code",
   "execution_count": 14,
   "id": "c308000c",
   "metadata": {},
   "outputs": [
    {
     "name": "stdout",
     "output_type": "stream",
     "text": [
      "Alice\n",
      "90\n",
      "\n",
      "Bob\n",
      "85\n",
      "\n",
      "Charlie\n",
      "78\n",
      "\n",
      "Diana\n",
      "92\n",
      "\n"
     ]
    }
   ],
   "source": [
    "for key, item in student_grades.items():\n",
    "    print(key)\n",
    "    print(item)\n",
    "    print()"
   ]
  },
  {
   "cell_type": "markdown",
   "id": "dba8c224",
   "metadata": {},
   "source": [
    "## Updating a Value"
   ]
  },
  {
   "cell_type": "code",
   "execution_count": 16,
   "id": "7f2b1d70",
   "metadata": {},
   "outputs": [],
   "source": [
    "student_grades['Alice'] = 95"
   ]
  },
  {
   "cell_type": "code",
   "execution_count": 17,
   "id": "7fb54bce",
   "metadata": {},
   "outputs": [
    {
     "data": {
      "text/plain": [
       "{'Alice': 95, 'Bob': 85, 'Charlie': 78, 'Diana': 92}"
      ]
     },
     "execution_count": 17,
     "metadata": {},
     "output_type": "execute_result"
    }
   ],
   "source": [
    "student_grades"
   ]
  },
  {
   "cell_type": "markdown",
   "id": "b1a51e6d",
   "metadata": {},
   "source": [
    "## This WON'T WORK!"
   ]
  },
  {
   "cell_type": "code",
   "execution_count": 19,
   "id": "4f2b8dac",
   "metadata": {},
   "outputs": [
    {
     "data": {
      "text/plain": [
       "{'Alice': 95}"
      ]
     },
     "execution_count": 19,
     "metadata": {},
     "output_type": "execute_result"
    }
   ],
   "source": [
    "student_grades = {'Alice': 95}\n",
    "student_grades"
   ]
  }
 ],
 "metadata": {
  "kernelspec": {
   "display_name": ".venv",
   "language": "python",
   "name": "python3"
  },
  "language_info": {
   "codemirror_mode": {
    "name": "ipython",
    "version": 3
   },
   "file_extension": ".py",
   "mimetype": "text/x-python",
   "name": "python",
   "nbconvert_exporter": "python",
   "pygments_lexer": "ipython3",
   "version": "3.13.0"
  }
 },
 "nbformat": 4,
 "nbformat_minor": 5
}
