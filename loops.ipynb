{
 "cells": [
  {
   "cell_type": "markdown",
   "id": "e5690135",
   "metadata": {},
   "source": [
    "# Multiplication Table "
   ]
  },
  {
   "cell_type": "markdown",
   "id": "05683736",
   "metadata": {},
   "source": [
    "### Simple Example"
   ]
  },
  {
   "cell_type": "code",
   "execution_count": 2,
   "id": "1d22cb81",
   "metadata": {},
   "outputs": [
    {
     "name": "stdout",
     "output_type": "stream",
     "text": [
      "5 * 1 = 5\n",
      "5 * 2 = 10\n",
      "5 * 3 = 15\n",
      "5 * 4 = 20\n",
      "5 * 5 = 25\n",
      "5 * 6 = 30\n",
      "5 * 7 = 35\n",
      "5 * 8 = 40\n",
      "5 * 9 = 45\n",
      "5 * 10 = 50\n"
     ]
    }
   ],
   "source": [
    "num = 5\n",
    "for i in range(1, 11):\n",
    "    print(f\"{num} * {i} = {num * i}\")"
   ]
  },
  {
   "cell_type": "markdown",
   "id": "830653df",
   "metadata": {},
   "source": [
    "### Complicated Example"
   ]
  },
  {
   "cell_type": "code",
   "execution_count": 8,
   "id": "c693e28b",
   "metadata": {},
   "outputs": [
    {
     "name": "stdout",
     "output_type": "stream",
     "text": [
      "MULTIPLES OF 1\n",
      "1 * 1 = 1\n",
      "1 * 2 = 2\n",
      "1 * 3 = 3\n",
      "1 * 4 = 4\n",
      "1 * 5 = 5\n",
      "1 * 6 = 6\n",
      "1 * 7 = 7\n",
      "1 * 8 = 8\n",
      "1 * 9 = 9\n",
      "1 * 10 = 10\n",
      "\n",
      "\n",
      "MULTIPLES OF 2\n",
      "2 * 1 = 2\n",
      "2 * 2 = 4\n",
      "2 * 3 = 6\n",
      "2 * 4 = 8\n",
      "2 * 5 = 10\n",
      "2 * 6 = 12\n",
      "2 * 7 = 14\n",
      "2 * 8 = 16\n",
      "2 * 9 = 18\n",
      "2 * 10 = 20\n",
      "\n",
      "\n",
      "MULTIPLES OF 3\n",
      "3 * 1 = 3\n",
      "3 * 2 = 6\n",
      "3 * 3 = 9\n",
      "3 * 4 = 12\n",
      "3 * 5 = 15\n",
      "3 * 6 = 18\n",
      "3 * 7 = 21\n",
      "3 * 8 = 24\n",
      "3 * 9 = 27\n",
      "3 * 10 = 30\n",
      "\n",
      "\n",
      "MULTIPLES OF 4\n",
      "4 * 1 = 4\n",
      "4 * 2 = 8\n",
      "4 * 3 = 12\n",
      "4 * 4 = 16\n",
      "4 * 5 = 20\n",
      "4 * 6 = 24\n",
      "4 * 7 = 28\n",
      "4 * 8 = 32\n",
      "4 * 9 = 36\n",
      "4 * 10 = 40\n",
      "\n",
      "\n",
      "MULTIPLES OF 5\n",
      "5 * 1 = 5\n",
      "5 * 2 = 10\n",
      "5 * 3 = 15\n",
      "5 * 4 = 20\n",
      "5 * 5 = 25\n",
      "5 * 6 = 30\n",
      "5 * 7 = 35\n",
      "5 * 8 = 40\n",
      "5 * 9 = 45\n",
      "5 * 10 = 50\n",
      "\n",
      "\n",
      "MULTIPLES OF 6\n",
      "6 * 1 = 6\n",
      "6 * 2 = 12\n",
      "6 * 3 = 18\n",
      "6 * 4 = 24\n",
      "6 * 5 = 30\n",
      "6 * 6 = 36\n",
      "6 * 7 = 42\n",
      "6 * 8 = 48\n",
      "6 * 9 = 54\n",
      "6 * 10 = 60\n",
      "\n",
      "\n",
      "MULTIPLES OF 7\n",
      "7 * 1 = 7\n",
      "7 * 2 = 14\n",
      "7 * 3 = 21\n",
      "7 * 4 = 28\n",
      "7 * 5 = 35\n",
      "7 * 6 = 42\n",
      "7 * 7 = 49\n",
      "7 * 8 = 56\n",
      "7 * 9 = 63\n",
      "7 * 10 = 70\n",
      "\n",
      "\n",
      "MULTIPLES OF 8\n",
      "8 * 1 = 8\n",
      "8 * 2 = 16\n",
      "8 * 3 = 24\n",
      "8 * 4 = 32\n",
      "8 * 5 = 40\n",
      "8 * 6 = 48\n",
      "8 * 7 = 56\n",
      "8 * 8 = 64\n",
      "8 * 9 = 72\n",
      "8 * 10 = 80\n",
      "\n",
      "\n",
      "MULTIPLES OF 9\n",
      "9 * 1 = 9\n",
      "9 * 2 = 18\n",
      "9 * 3 = 27\n",
      "9 * 4 = 36\n",
      "9 * 5 = 45\n",
      "9 * 6 = 54\n",
      "9 * 7 = 63\n",
      "9 * 8 = 72\n",
      "9 * 9 = 81\n",
      "9 * 10 = 90\n",
      "\n",
      "\n",
      "MULTIPLES OF 10\n",
      "10 * 1 = 10\n",
      "10 * 2 = 20\n",
      "10 * 3 = 30\n",
      "10 * 4 = 40\n",
      "10 * 5 = 50\n",
      "10 * 6 = 60\n",
      "10 * 7 = 70\n",
      "10 * 8 = 80\n",
      "10 * 9 = 90\n",
      "10 * 10 = 100\n",
      "\n",
      "\n"
     ]
    }
   ],
   "source": [
    "for i in range(1, 11):\n",
    "    print(f'MULTIPLES OF {i}')\n",
    "    for j in range(1, 11):\n",
    "        print(f'{i} * {j} = {i * j}')\n",
    "    print('\\n')"
   ]
  },
  {
   "cell_type": "markdown",
   "id": "bf9ae253",
   "metadata": {},
   "source": [
    "# Old Guessing Game"
   ]
  },
  {
   "cell_type": "code",
   "execution_count": 16,
   "id": "96af2208",
   "metadata": {},
   "outputs": [
    {
     "name": "stdout",
     "output_type": "stream",
     "text": [
      "Your number was too low!\n",
      "You have 2 attempts remaining\n",
      "Your number was too high!\n",
      "You have 1 attempts remaining\n",
      "You got it right!\n"
     ]
    }
   ],
   "source": [
    "import random \n",
    "\n",
    "secret = random.randint(1, 10)\n",
    "attempts = 1\n",
    "\n",
    "while attempts <= 3:\n",
    "    guess = int(input('Please enter a number between 1 and 10: '))\n",
    "    if guess == secret:\n",
    "        print('You got it right!')\n",
    "        break\n",
    "    elif guess < secret:\n",
    "        print('Your number was too low!')\n",
    "    else:\n",
    "        print('Your number was too high!')\n",
    "    print(f'You have {3 - attempts} attempts remaining')\n",
    "    attempts += 1\n",
    "\n",
    "if guess != secret and attempts > 3:\n",
    "    print(f'You ran out of attempts! The correct number was {secret}')"
   ]
  },
  {
   "cell_type": "markdown",
   "id": "a9e41d5f",
   "metadata": {},
   "source": [
    "# Revised Guessing Game"
   ]
  },
  {
   "cell_type": "code",
   "execution_count": null,
   "id": "1ee81189",
   "metadata": {},
   "outputs": [],
   "source": [
    "import random \n",
    "\n",
    "secret = random.randint(1, 10)\n",
    "attempts = 1\n",
    "\n",
    "while attempts <= 3:\n",
    "    guess = int(input('Please enter a number between 1 and 10: '))\n",
    "    if guess == secret:\n",
    "        print('You got it right!')\n",
    "        break\n",
    "    elif guess < secret:\n",
    "        print('Your number was too low!')\n",
    "    else:\n",
    "        print('Your number was too high!')\n",
    "    attempts += 1\n",
    "            \n",
    "if attempts > 3 and guess != secret: \n",
    "    print('You ran out of attempts! The number was', secret) "
   ]
  }
 ],
 "metadata": {
  "kernelspec": {
   "display_name": "base",
   "language": "python",
   "name": "python3"
  },
  "language_info": {
   "codemirror_mode": {
    "name": "ipython",
    "version": 3
   },
   "file_extension": ".py",
   "mimetype": "text/x-python",
   "name": "python",
   "nbconvert_exporter": "python",
   "pygments_lexer": "ipython3",
   "version": "3.12.7"
  }
 },
 "nbformat": 4,
 "nbformat_minor": 5
}
